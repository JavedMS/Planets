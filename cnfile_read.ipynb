{
 "cells": [
  {
   "cell_type": "code",
   "execution_count": 1,
   "metadata": {},
   "outputs": [],
   "source": [
    "import cdsapi\n",
    "import netCDF4\n",
    "from netCDF4 import num2date\n",
    "import numpy as np\n",
    "import os\n",
    "import pandas as pd"
   ]
  },
  {
   "cell_type": "code",
   "execution_count": 24,
   "metadata": {},
   "outputs": [],
   "source": [
    "f = netCDF4.Dataset('./europe_2010_V2.nc')\n",
    "t2all = f.variables['height']\n",
    "t2allW = f.variables['wnd100m']\n",
    "lat_dim, lon_dim = t2all.get_dims()\n",
    "latitudes = f.variables[lat_dim.name][:]\n",
    "longitudes = f.variables[lon_dim.name][:]\n"
   ]
  },
  {
   "cell_type": "code",
   "execution_count": 3,
   "metadata": {},
   "outputs": [],
   "source": [
    "time_dim = f.variables['time']\n",
    "time_var= f.variables[time_dim.name][:]\n"
   ]
  },
  {
   "cell_type": "code",
   "execution_count": null,
   "metadata": {},
   "outputs": [],
   "source": [
    "print(f.variables[t2allW.name][:])\n"
   ]
  },
  {
   "cell_type": "code",
   "execution_count": 25,
   "metadata": {},
   "outputs": [
    {
     "name": "stdout",
     "output_type": "stream",
     "text": [
      "<class 'netCDF4._netCDF4.Dataset'>\n",
      "root group (NETCDF4 data model, file format HDF5):\n",
      "    module: ['gebco', 'era5']\n",
      "    prepared_features: ['influx', 'wind', 'temperature', 'height', 'runoff']\n",
      "    chunksize_time: 100\n",
      "    gebco_path: F:/Data/gebco/gebco_2020_n82.0_s32.0_w-13.0_e45.0.tif\n",
      "    dx: 0.25\n",
      "    dy: 0.25\n",
      "    Conventions: CF-1.6\n",
      "    history: 2022-09-02 12:21:15 GMT by grib_to_netcdf-2.25.1: /opt/ecmwf/mars-client/bin/grib_to_netcdf.bin -S param -o /cache/data4/adaptor.mars.internal-1662121083.8005917-13536-8-295cabf7-3d41-4aef-854c-fd93da18f21e.nc /cache/tmp/295cabf7-3d41-4aef-854c-fd93da18f21e-adaptor.mars.internal-1662119778.4931877-13536-13-tmp.grib\n",
      "    dimensions(sizes): x(233), y(201), time(8760)\n",
      "    variables(dimensions): float64 x(x), float64 y(y), int64 time(time), float64 lon(x), float64 lat(y), int16 height(y, x), float32 wnd100m(time, y, x), float32 roughness(time, y, x), float32 influx_toa(time, y, x), float32 influx_direct(time, y, x), float32 influx_diffuse(time, y, x), float32 albedo(time, y, x), int16 temperature(time, y, x), int16 soil temperature(time, y, x), float32 runoff(time, y, x), float32 wnd_azimuth(time, y, x), float64 solar_altitude(time, y, x), float64 solar_azimuth(time, y, x)\n",
      "    groups: \n"
     ]
    }
   ],
   "source": [
    "print (f)"
   ]
  },
  {
   "cell_type": "code",
   "execution_count": null,
   "metadata": {},
   "outputs": [],
   "source": []
  }
 ],
 "metadata": {
  "kernelspec": {
   "display_name": "atlite",
   "language": "python",
   "name": "python3"
  },
  "language_info": {
   "codemirror_mode": {
    "name": "ipython",
    "version": 3
   },
   "file_extension": ".py",
   "mimetype": "text/x-python",
   "name": "python",
   "nbconvert_exporter": "python",
   "pygments_lexer": "ipython3",
   "version": "3.12.1"
  }
 },
 "nbformat": 4,
 "nbformat_minor": 2
}
