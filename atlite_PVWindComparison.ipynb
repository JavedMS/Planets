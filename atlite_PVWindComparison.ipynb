{
 "cells": [
  {
   "cell_type": "code",
   "execution_count": 3,
   "metadata": {},
   "outputs": [],
   "source": [
    "import atlite\n",
    "import xarray as xr\n",
    "import pandas as pd\n",
    "import scipy.sparse as sp\n",
    "import numpy as np\n",
    "\n",
    "import pgeocode\n",
    "from collections import OrderedDict"
   ]
  },
  {
   "cell_type": "code",
   "execution_count": 4,
   "metadata": {},
   "outputs": [],
   "source": [
    "import matplotlib.pyplot as plt\n",
    "%matplotlib inline\n",
    "import seaborn as sns\n",
    "sns.set_style(\"whitegrid\")"
   ]
  },
  {
   "cell_type": "code",
   "execution_count": 12,
   "metadata": {},
   "outputs": [],
   "source": [
    "import requests\n",
    "import os\n",
    "import zipfile"
   ]
  },
  {
   "cell_type": "code",
   "execution_count": 13,
   "metadata": {},
   "outputs": [],
   "source": [
    "def download_file(url, local_filename):\n",
    "    # variant of http://stackoverflow.com/a/16696317\n",
    "    if not os.path.exists(local_filename):\n",
    "        r = requests.get(url, stream=True)\n",
    "        with open(local_filename, \"wb\") as f:\n",
    "            for chunk in r.iter_content(chunk_size=1024):\n",
    "                if chunk:\n",
    "                    f.write(chunk)\n",
    "    return local_filename"
   ]
  },
  {
   "cell_type": "code",
   "execution_count": 14,
   "metadata": {},
   "outputs": [],
   "source": [
    "# Dowloading the wind speed and solar radiation\n",
    "opsd_fn = download_file(\"https://data.open-power-system-data.org/index.php?package=time_series&version=2019-06-05&action=customDownload&resource=3&filter%5B_contentfilter_cet_cest_timestamp%5D%5Bfrom%5D=2012-01-01&filter%5B_contentfilter_cet_cest_timestamp%5D%5Bto%5D=2013-05-01&filter%5BRegion%5D%5B%5D=DE&filter%5BVariable%5D%5B%5D=solar_generation_actual&filter%5BVariable%5D%5B%5D=wind_generation_actual&downloadCSV=Download+CSV\",\n",
    "    \"time_series_60min_singleindex_filtered.csv\",)"
   ]
  },
  {
   "cell_type": "code",
   "execution_count": 29,
   "metadata": {},
   "outputs": [
    {
     "data": {
      "text/html": [
       "<div>\n",
       "<style scoped>\n",
       "    .dataframe tbody tr th:only-of-type {\n",
       "        vertical-align: middle;\n",
       "    }\n",
       "\n",
       "    .dataframe tbody tr th {\n",
       "        vertical-align: top;\n",
       "    }\n",
       "\n",
       "    .dataframe thead th {\n",
       "        text-align: right;\n",
       "    }\n",
       "</style>\n",
       "<table border=\"1\" class=\"dataframe\">\n",
       "  <thead>\n",
       "    <tr style=\"text-align: right;\">\n",
       "      <th></th>\n",
       "      <th>utc_timestamp</th>\n",
       "      <th>cet_cest_timestamp</th>\n",
       "      <th>DE_solar_generation_actual</th>\n",
       "      <th>DE_wind_generation_actual</th>\n",
       "    </tr>\n",
       "  </thead>\n",
       "  <tbody>\n",
       "    <tr>\n",
       "      <th>0</th>\n",
       "      <td>2011-12-31T23:00:00Z</td>\n",
       "      <td>2012-01-01T00:00:00+0100</td>\n",
       "      <td>NaN</td>\n",
       "      <td>4576</td>\n",
       "    </tr>\n",
       "    <tr>\n",
       "      <th>1</th>\n",
       "      <td>2012-01-01T00:00:00Z</td>\n",
       "      <td>2012-01-01T01:00:00+0100</td>\n",
       "      <td>NaN</td>\n",
       "      <td>4871</td>\n",
       "    </tr>\n",
       "    <tr>\n",
       "      <th>2</th>\n",
       "      <td>2012-01-01T01:00:00Z</td>\n",
       "      <td>2012-01-01T02:00:00+0100</td>\n",
       "      <td>NaN</td>\n",
       "      <td>5409</td>\n",
       "    </tr>\n",
       "    <tr>\n",
       "      <th>3</th>\n",
       "      <td>2012-01-01T02:00:00Z</td>\n",
       "      <td>2012-01-01T03:00:00+0100</td>\n",
       "      <td>NaN</td>\n",
       "      <td>6094</td>\n",
       "    </tr>\n",
       "    <tr>\n",
       "      <th>4</th>\n",
       "      <td>2012-01-01T03:00:00Z</td>\n",
       "      <td>2012-01-01T04:00:00+0100</td>\n",
       "      <td>NaN</td>\n",
       "      <td>6734</td>\n",
       "    </tr>\n",
       "    <tr>\n",
       "      <th>...</th>\n",
       "      <td>...</td>\n",
       "      <td>...</td>\n",
       "      <td>...</td>\n",
       "      <td>...</td>\n",
       "    </tr>\n",
       "    <tr>\n",
       "      <th>11682</th>\n",
       "      <td>2013-05-01T17:00:00Z</td>\n",
       "      <td>2013-05-01T19:00:00+0200</td>\n",
       "      <td>1688.0</td>\n",
       "      <td>2307</td>\n",
       "    </tr>\n",
       "    <tr>\n",
       "      <th>11683</th>\n",
       "      <td>2013-05-01T18:00:00Z</td>\n",
       "      <td>2013-05-01T20:00:00+0200</td>\n",
       "      <td>223.0</td>\n",
       "      <td>2526</td>\n",
       "    </tr>\n",
       "    <tr>\n",
       "      <th>11684</th>\n",
       "      <td>2013-05-01T19:00:00Z</td>\n",
       "      <td>2013-05-01T21:00:00+0200</td>\n",
       "      <td>0.0</td>\n",
       "      <td>2975</td>\n",
       "    </tr>\n",
       "    <tr>\n",
       "      <th>11685</th>\n",
       "      <td>2013-05-01T20:00:00Z</td>\n",
       "      <td>2013-05-01T22:00:00+0200</td>\n",
       "      <td>0.0</td>\n",
       "      <td>3054</td>\n",
       "    </tr>\n",
       "    <tr>\n",
       "      <th>11686</th>\n",
       "      <td>2013-05-01T21:00:00Z</td>\n",
       "      <td>2013-05-01T23:00:00+0200</td>\n",
       "      <td>0.0</td>\n",
       "      <td>2523</td>\n",
       "    </tr>\n",
       "  </tbody>\n",
       "</table>\n",
       "<p>11687 rows × 4 columns</p>\n",
       "</div>"
      ],
      "text/plain": [
       "              utc_timestamp        cet_cest_timestamp  \\\n",
       "0      2011-12-31T23:00:00Z  2012-01-01T00:00:00+0100   \n",
       "1      2012-01-01T00:00:00Z  2012-01-01T01:00:00+0100   \n",
       "2      2012-01-01T01:00:00Z  2012-01-01T02:00:00+0100   \n",
       "3      2012-01-01T02:00:00Z  2012-01-01T03:00:00+0100   \n",
       "4      2012-01-01T03:00:00Z  2012-01-01T04:00:00+0100   \n",
       "...                     ...                       ...   \n",
       "11682  2013-05-01T17:00:00Z  2013-05-01T19:00:00+0200   \n",
       "11683  2013-05-01T18:00:00Z  2013-05-01T20:00:00+0200   \n",
       "11684  2013-05-01T19:00:00Z  2013-05-01T21:00:00+0200   \n",
       "11685  2013-05-01T20:00:00Z  2013-05-01T22:00:00+0200   \n",
       "11686  2013-05-01T21:00:00Z  2013-05-01T23:00:00+0200   \n",
       "\n",
       "       DE_solar_generation_actual  DE_wind_generation_actual  \n",
       "0                             NaN                       4576  \n",
       "1                             NaN                       4871  \n",
       "2                             NaN                       5409  \n",
       "3                             NaN                       6094  \n",
       "4                             NaN                       6734  \n",
       "...                           ...                        ...  \n",
       "11682                      1688.0                       2307  \n",
       "11683                       223.0                       2526  \n",
       "11684                         0.0                       2975  \n",
       "11685                         0.0                       3054  \n",
       "11686                         0.0                       2523  \n",
       "\n",
       "[11687 rows x 4 columns]"
      ]
     },
     "execution_count": 29,
     "metadata": {},
     "output_type": "execute_result"
    }
   ],
   "source": [
    "pd.read_csv(opsd_fn)"
   ]
  },
  {
   "cell_type": "code",
   "execution_count": 31,
   "metadata": {},
   "outputs": [],
   "source": [
    "# removing the time zone information\n",
    "opsd = pd.read_csv(opsd_fn, parse_dates=True, index_col=0)\n",
    "opsd.index = opsd.index.tz_convert(None)\n",
    "opsd = opsd[(\"2011\" < opsd.index) & (opsd.index < \"2013\")]"
   ]
  },
  {
   "cell_type": "code",
   "execution_count": 35,
   "metadata": {},
   "outputs": [
    {
     "name": "stdout",
     "output_type": "stream",
     "text": [
      "                           cet_cest_timestamp  DE_solar_generation_actual  \\\n",
      "utc_timestamp                                                               \n",
      "2011-12-31 23:00:00  2012-01-01T00:00:00+0100                         NaN   \n",
      "2012-01-01 00:00:00  2012-01-01T01:00:00+0100                         NaN   \n",
      "2012-01-01 01:00:00  2012-01-01T02:00:00+0100                         NaN   \n",
      "2012-01-01 02:00:00  2012-01-01T03:00:00+0100                         NaN   \n",
      "2012-01-01 03:00:00  2012-01-01T04:00:00+0100                         NaN   \n",
      "...                                       ...                         ...   \n",
      "2012-12-31 19:00:00  2012-12-31T20:00:00+0100                         0.0   \n",
      "2012-12-31 20:00:00  2012-12-31T21:00:00+0100                         0.0   \n",
      "2012-12-31 21:00:00  2012-12-31T22:00:00+0100                         0.0   \n",
      "2012-12-31 22:00:00  2012-12-31T23:00:00+0100                         0.0   \n",
      "2012-12-31 23:00:00  2013-01-01T00:00:00+0100                         0.0   \n",
      "\n",
      "                     DE_wind_generation_actual  \n",
      "utc_timestamp                                   \n",
      "2011-12-31 23:00:00                       4576  \n",
      "2012-01-01 00:00:00                       4871  \n",
      "2012-01-01 01:00:00                       5409  \n",
      "2012-01-01 02:00:00                       6094  \n",
      "2012-01-01 03:00:00                       6734  \n",
      "...                                        ...  \n",
      "2012-12-31 19:00:00                      17732  \n",
      "2012-12-31 20:00:00                      18106  \n",
      "2012-12-31 21:00:00                      17913  \n",
      "2012-12-31 22:00:00                      18126  \n",
      "2012-12-31 23:00:00                      18394  \n",
      "\n",
      "[8785 rows x 3 columns]\n"
     ]
    }
   ],
   "source": [
    "print(opsd)"
   ]
  },
  {
   "cell_type": "code",
   "execution_count": null,
   "metadata": {},
   "outputs": [],
   "source": [
    "# Downloading the installed PV capacities in Germany\n",
    "eeg_fn =  download_file(\"http://www.energymap.info/download/eeg_anlagenregister_2015.08.utf8.csv.zip\",\n",
    "    \"eeg_anlagenregister_2015.08.utf8.csv.zip\",)"
   ]
  },
  {
   "cell_type": "code",
   "execution_count": 37,
   "metadata": {},
   "outputs": [],
   "source": [
    "with zipfile.ZipFile(eeg_fn, \"r\") as zip_ref:\n",
    "    zip_ref.extract(\"eeg_anlagenregister_2015.08.utf8.csv\")"
   ]
  },
  {
   "cell_type": "code",
   "execution_count": 40,
   "metadata": {},
   "outputs": [],
   "source": [
    "import geopandas as gpd\n",
    "import cartopy.io.shapereader as shpreader"
   ]
  },
  {
   "cell_type": "code",
   "execution_count": 48,
   "metadata": {},
   "outputs": [],
   "source": [
    "shp = shpreader.Reader(\n",
    "    shpreader.natural_earth(\n",
    "        resolution=\"10m\", category=\"cultural\", name=\"admin_0_countries\"\n",
    "    )\n",
    ")\n"
   ]
  },
  {
   "cell_type": "code",
   "execution_count": 86,
   "metadata": {},
   "outputs": [
    {
     "name": "stdout",
     "output_type": "stream",
     "text": [
      "['ID', 'MY', 'CL', 'BO', 'PE', 'AR', '-99', 'CY', 'IN', 'CN', 'IL', 'PS', 'LB', 'ET', 'SS', 'SO', 'KE', 'MW', 'TZ', 'SY', '-99', '-99', 'SR', 'GY', 'KR', 'KP', 'MA', 'EH', 'CR', 'NI', 'CG', 'CD', 'BT', 'UA', 'BY', 'NA', 'ZA', 'MF', 'SX', 'OM', 'UZ', 'KZ', 'TJ', 'LT', 'BR', 'UY', 'MN', 'RU', 'CZ', 'DE', 'EE', 'LV', '-99', 'SE', 'FI', 'VN', 'KH', 'LU', 'AE', 'BE', 'GE', 'MK', 'AL', 'AZ', '-99', 'TR', 'ES', 'LA', 'KG', 'AM', 'DK', 'LY', 'TN', 'RO', 'HU', 'SK', 'PL', 'IE', 'GB', 'GR', 'ZM', 'SL', 'GN', 'LR', 'CF', 'SD', 'DJ', 'ER', 'AT', 'IQ', 'IT', 'CH', 'IR', 'NL', 'LI', 'CI', 'RS', 'ML', 'SN', 'NG', 'BJ', 'AO', 'HR', 'SI', 'QA', 'SA', 'BW', 'ZW', 'PK', 'BG', 'TH', 'SM', 'HT', 'DO', 'TD', 'KW', 'SV', 'GT', 'TL', 'BN', 'MC', 'DZ', 'MZ', 'SZ', 'BI', 'RW', 'MM', 'BD', 'AD', 'AF', 'ME', 'BA', 'UG', '-99', 'CU', 'HN', 'EC', 'CO', 'PY', '-99', 'PT', 'MD', 'TM', 'JO', 'NP', 'LS', 'CM', 'GA', 'NE', 'BF', 'TG', 'GH', 'GW', 'GI', 'US', 'CA', 'MX', 'BZ', 'PA', 'VE', 'PG', 'EG', 'YE', 'MR', 'GQ', 'GM', 'HK', 'VA', '-99', '-99', '-99', '-99', '-99', '-99', '-99', 'AQ', 'AU', 'GL', 'FJ', 'NZ', 'NC', 'MG', 'PH', 'LK', 'CW', 'AW', 'BS', 'TC', 'CN-TW', 'JP', 'PM', 'IS', 'PN', 'PF', 'TF', 'SC', 'KI', 'MH', 'TT', 'GD', 'VC', 'BB', 'LC', 'DM', 'UM', 'MS', 'AG', 'KN', 'VI', 'BL', 'PR', 'AI', 'VG', 'JM', 'KY', 'BM', 'HM', 'SH', 'MU', 'KM', 'ST', 'CV', 'MT', 'JE', 'GG', 'IM', 'AX', 'FO', '-99', 'IO', 'SG', 'NF', 'CK', 'TO', 'WF', 'WS', 'SB', 'TV', 'MV', 'NR', 'FM', 'GS', 'FK', 'VU', 'NU', 'AS', 'PW', 'GU', 'MP', 'BH', '-99', '-99', '-99', 'MO', '-99', '-99', '-99', '-99']\n"
     ]
    }
   ],
   "source": [
    "iso_a2_codes = [record.attributes[\"ISO_A2\"] for record in shp.records()]\n",
    "print(iso_a2_codes)"
   ]
  },
  {
   "cell_type": "code",
   "execution_count": 62,
   "metadata": {},
   "outputs": [],
   "source": [
    "de_record = list(filter(lambda c: c.attributes[\"ISO_A2\"] == \"DE\", shp.records()))[0]\n",
    "de = pd.Series({**de_record.attributes, \"geometry\": de_record.geometry})\n",
    "X1, Y1, X2, Y2 = de[\"geometry\"].bounds\n"
   ]
  },
  {
   "cell_type": "code",
   "execution_count": 76,
   "metadata": {},
   "outputs": [
    {
     "name": "stdout",
     "output_type": "stream",
     "text": [
      "5.852489868000106 47.27112091100007 15.022059367000054 55.065334377000056\n",
      "featurecla                                      Admin-0 country\n",
      "scalerank                                                     0\n",
      "LABELRANK                                                     2\n",
      "SOVEREIGNT                                              Germany\n",
      "SOV_A3                                                      DEU\n",
      "                                    ...                        \n",
      "FCLASS_NL                                                  None\n",
      "FCLASS_SE                                                  None\n",
      "FCLASS_BD                                                  None\n",
      "FCLASS_UA                                                  None\n",
      "geometry      MULTIPOLYGON (((13.815724731000074 48.76643015...\n",
      "Length: 169, dtype: object\n"
     ]
    }
   ],
   "source": [
    "print(X1, Y1, X2, Y2)\n",
    "print (de)"
   ]
  },
  {
   "cell_type": "code",
   "execution_count": 77,
   "metadata": {},
   "outputs": [
    {
     "name": "stderr",
     "output_type": "stream",
     "text": [
      "c:\\Users\\javedm\\AppData\\Local\\miniconda3\\envs\\atlite\\Lib\\site-packages\\atlite\\cutout.py:190: UserWarning: Arguments module, x, y, time are ignored, since cutout is already built.\n",
      "  warn(\n"
     ]
    }
   ],
   "source": [
    "cutout = atlite.Cutout(\n",
    "        \"germany-2012\",\n",
    "        module = \"era5\",\n",
    "        x = slice(X1-0.2, X2+0.2),\n",
    "        y = slice(Y1-0.2, Y2+0.2),\n",
    "        chunks = {\"time\": 100},\n",
    "        time = slice(\"2012-01\", \"2012-02\")\n",
    ")\n"
   ]
  },
  {
   "cell_type": "code",
   "execution_count": 75,
   "metadata": {},
   "outputs": [
    {
     "name": "stderr",
     "output_type": "stream",
     "text": [
      "c:\\Users\\javedm\\AppData\\Local\\miniconda3\\envs\\atlite\\Lib\\site-packages\\xarray\\core\\utils.py:494: FutureWarning: The return type of `Dataset.dims` will be changed to return a set of dimension names in future, in order to be more consistent with `DataArray.dims`. To access a mapping from dimension names to lengths, please use `Dataset.sizes`.\n",
      "  warnings.warn(\n",
      "c:\\Users\\javedm\\AppData\\Local\\miniconda3\\envs\\atlite\\Lib\\site-packages\\xarray\\core\\utils.py:494: FutureWarning: The return type of `Dataset.dims` will be changed to return a set of dimension names in future, in order to be more consistent with `DataArray.dims`. To access a mapping from dimension names to lengths, please use `Dataset.sizes`.\n",
      "  warnings.warn(\n",
      "  0%|          | 0.00/3.56M [00:00<?, ?B/s]         c:\\Users\\javedm\\AppData\\Local\\miniconda3\\envs\\atlite\\Lib\\site-packages\\xarray\\core\\utils.py:494: FutureWarning: The return type of `Dataset.dims` will be changed to return a set of dimension names in future, in order to be more consistent with `DataArray.dims`. To access a mapping from dimension names to lengths, please use `Dataset.sizes`.\n",
      "  warnings.warn(\n",
      "c:\\Users\\javedm\\AppData\\Local\\miniconda3\\envs\\atlite\\Lib\\site-packages\\xarray\\core\\utils.py:494: FutureWarning: The return type of `Dataset.dims` will be changed to return a set of dimension names in future, in order to be more consistent with `DataArray.dims`. To access a mapping from dimension names to lengths, please use `Dataset.sizes`.\n",
      "  warnings.warn(\n",
      "c:\\Users\\javedm\\AppData\\Local\\miniconda3\\envs\\atlite\\Lib\\site-packages\\xarray\\core\\utils.py:494: FutureWarning: The return type of `Dataset.dims` will be changed to return a set of dimension names in future, in order to be more consistent with `DataArray.dims`. To access a mapping from dimension names to lengths, please use `Dataset.sizes`.\n",
      "  warnings.warn(\n",
      "c:\\Users\\javedm\\AppData\\Local\\miniconda3\\envs\\atlite\\Lib\\site-packages\\xarray\\core\\utils.py:494: FutureWarning: The return type of `Dataset.dims` will be changed to return a set of dimension names in future, in order to be more consistent with `DataArray.dims`. To access a mapping from dimension names to lengths, please use `Dataset.sizes`.\n",
      "  warnings.warn(\n",
      "c:\\Users\\javedm\\AppData\\Local\\miniconda3\\envs\\atlite\\Lib\\site-packages\\xarray\\core\\utils.py:494: FutureWarning: The return type of `Dataset.dims` will be changed to return a set of dimension names in future, in order to be more consistent with `DataArray.dims`. To access a mapping from dimension names to lengths, please use `Dataset.sizes`.\n",
      "  warnings.warn(\n",
      "c:\\Users\\javedm\\AppData\\Local\\miniconda3\\envs\\atlite\\Lib\\site-packages\\xarray\\core\\utils.py:494: FutureWarning: The return type of `Dataset.dims` will be changed to return a set of dimension names in future, in order to be more consistent with `DataArray.dims`. To access a mapping from dimension names to lengths, please use `Dataset.sizes`.\n",
      "  warnings.warn(\n",
      "c:\\Users\\javedm\\AppData\\Local\\miniconda3\\envs\\atlite\\Lib\\site-packages\\xarray\\core\\utils.py:494: FutureWarning: The return type of `Dataset.dims` will be changed to return a set of dimension names in future, in order to be more consistent with `DataArray.dims`. To access a mapping from dimension names to lengths, please use `Dataset.sizes`.\n",
      "  warnings.warn(\n"
     ]
    },
    {
     "name": "stdout",
     "output_type": "stream",
     "text": [
      "[########################################] | 100% Completed | 12.09 ss\n"
     ]
    },
    {
     "name": "stderr",
     "output_type": "stream",
     "text": [
      "c:\\Users\\javedm\\AppData\\Local\\miniconda3\\envs\\atlite\\Lib\\site-packages\\xarray\\core\\dataset.py:282: UserWarning: The specified chunks separate the stored chunks along dimension \"time\" starting at index 100. This could degrade performance. Instead, consider rechunking after loading.\n",
      "  warnings.warn(\n"
     ]
    },
    {
     "data": {
      "text/plain": [
       "<Cutout \"germany-2012\">\n",
       " x = 5.75 ⟷ 15.00, dx = 0.25\n",
       " y = 47.25 ⟷ 55.25, dy = 0.25\n",
       " time = 2012-01-01 ⟷ 2012-02-29, dt = H\n",
       " module = era5\n",
       " prepared_features = ['height', 'wind', 'influx', 'temperature', 'runoff']"
      ]
     },
     "execution_count": 75,
     "metadata": {},
     "output_type": "execute_result"
    }
   ],
   "source": [
    "cutout.prepare()"
   ]
  },
  {
   "cell_type": "code",
   "execution_count": null,
   "metadata": {},
   "outputs": [],
   "source": [
    "def load_capapcities (typ, cap_range=None, until = None):\n",
    "    cols = OrderedDict(\n",
    "      (\n",
    "            (\"installation_date\", 0),\n",
    "            (\"plz\", 2),\n",
    "            (\"city\", 3),\n",
    "            (\"type\", 6),\n",
    "            (\"capacity\", 8),\n",
    "            (\"level\", 9),\n",
    "            (\"lat\", 19),\n",
    "            (\"lon\", 20),\n",
    "            (\"validation\", 22),\n",
    "        )\n",
    "    )\n",
    "    database = pd.read_csv(\n",
    "        \"eeg_anlagenregister_2015.08.utf8.csv\",\n",
    "        sep=\";\",\n",
    "        decimal=\",\",\n",
    "        thousands=\".\",\n",
    "        comment=\"#\",\n",
    "        header=None,\n",
    "        usecols=list(cols.values()),\n",
    "        names=list(cols.keys()),\n",
    "        # German postal codes can start with '0' so we need to treat them as str\n",
    "        dtype={\"plz\": str},\n",
    "        parse_dates=[\"installation_date\"],\n",
    "        date_format=\"%d.%m.%Y\",\n",
    "        na_values=(\"O04WF\", \"keine\"),\n",
    "    )\n",
    "    database = database[(database[\"validation\"] == \"OK\") & (database[\"plz\"].notna())]\n",
    "     # Query postal codes <-> coordinates mapping\n",
    "    de_nomi = pgeocode.Nominatim(\"de\")\n",
    "    plz_coords = de_nomi.query_postal_code(database[\"plz\"].unique())\n",
    "    plz_coords = plz_coords.set_index(\"postal_code\")\n",
    "    # Fill missing lat / lon using postal codes entries\n",
    "    database.loc[database[\"lat\"].isna(), \"lat\"] = database[\"plz\"].map(\n",
    "        plz_coords[\"latitude\"]\n",
    "    )\n",
    "    database.loc[database[\"lon\"].isna(), \"lon\"] = database[\"plz\"].map(\n",
    "        plz_coords[\"longitude\"]\n",
    "    )\n",
    "    # Ignore all locations which have not be determined yet\n",
    "    database = database[database[\"lat\"].notna() & database[\"lon\"].notna()]\n",
    "    # Select data based on type (i.e. solar/PV, wind, ...)\n",
    "    data = database[database[\"type\"] == typ].copy()\n",
    "    # Optional: Select based on installation day\n",
    "    if until is not None:\n",
    "        data = data[data[\"installation_date\"] < pd.to_datetime(until)]\n",
    "    # Optional: Only installations within this caprange (left inclusive, right exclusive)\n",
    "    if cap_range is not None:\n",
    "        data = data[\n",
    "            (cap_range[0] <= data[\"capacity\"]) & (data[\"capacity\"] < cap_range[1])\n",
    "        ]\n",
    "        \n",
    "    data[\"capacity\"] = data.capacity / 1e3  # convert to MW\n",
    "    return data.rename(columns={\"lon\": \"x\", \"lat\": \"y\"})\n"
   ]
  },
  {
   "cell_type": "code",
   "execution_count": 105,
   "metadata": {},
   "outputs": [],
   "source": [
    "def load_capacities(typ, cap_range=None, until=None):\n",
    "    \"\"\"Read in and select capacities.\n",
    "\n",
    "    Parameters\n",
    "    ----------\n",
    "        typ : str\n",
    "            Type of energy source, e.g. \"Solarstrom\" (PV), \"Windenergie\" (wind).\n",
    "        cap_range : (optional) list-like\n",
    "            Two entries, limiting the lower and upper range of capacities (in kW)\n",
    "            to include. Left-inclusive, right-exclusive.\n",
    "        until : str\n",
    "            String representation of a datetime object understood by pandas.to_datetime()\n",
    "            for limiting to installations existing until this datetime.\n",
    "\n",
    "    \"\"\"\n",
    "\n",
    "    # Load locations of installed capacities and remove incomplete entries\n",
    "    cols = OrderedDict(\n",
    "        (\n",
    "            (\"installation_date\", 0),\n",
    "            (\"plz\", 2),\n",
    "            (\"city\", 3),\n",
    "            (\"type\", 6),\n",
    "            (\"capacity\", 8),\n",
    "            (\"level\", 9),\n",
    "            (\"lat\", 19),\n",
    "            (\"lon\", 20),\n",
    "            (\"validation\", 22),\n",
    "        )\n",
    "    )\n",
    "    database = pd.read_csv(\n",
    "        \"eeg_anlagenregister_2015.08.utf8.csv\",\n",
    "        sep=\";\",\n",
    "        decimal=\",\",\n",
    "        thousands=\".\",\n",
    "        comment=\"#\",\n",
    "        header=None,\n",
    "        usecols=list(cols.values()),\n",
    "        names=list(cols.keys()),\n",
    "        # German postal codes can start with '0' so we need to treat them as str\n",
    "        dtype={\"plz\": str},\n",
    "        parse_dates=[\"installation_date\"],\n",
    "        date_format=\"%d.%m.%Y\",\n",
    "        na_values=(\"O04WF\", \"keine\"),\n",
    "    )\n",
    "\n",
    "    database = database[(database[\"validation\"] == \"OK\") & (database[\"plz\"].notna())]\n",
    "\n",
    "    # Query postal codes <-> coordinates mapping\n",
    "    de_nomi = pgeocode.Nominatim(\"de\")\n",
    "    plz_coords = de_nomi.query_postal_code(database[\"plz\"].unique())\n",
    "    plz_coords = plz_coords.set_index(\"postal_code\")\n",
    "\n",
    "    # Fill missing lat / lon using postal codes entries\n",
    "    database.loc[database[\"lat\"].isna(), \"lat\"] = database[\"plz\"].map(\n",
    "        plz_coords[\"latitude\"]\n",
    "    )\n",
    "    database.loc[database[\"lon\"].isna(), \"lon\"] = database[\"plz\"].map(\n",
    "        plz_coords[\"longitude\"]\n",
    "    )\n",
    "\n",
    "    # Ignore all locations which have not be determined yet\n",
    "    database = database[database[\"lat\"].notna() & database[\"lon\"].notna()]\n",
    "\n",
    "    # Select data based on type (i.e. solar/PV, wind, ...)\n",
    "    data = database[database[\"type\"] == typ].copy()\n",
    "\n",
    "    # Optional: Select based on installation day\n",
    "    if until is not None:\n",
    "        data = data[data[\"installation_date\"] < pd.to_datetime(until)]\n",
    "\n",
    "    # Optional: Only installations within this caprange (left inclusive, right exclusive)\n",
    "    if cap_range is not None:\n",
    "        data = data[\n",
    "            (cap_range[0] <= data[\"capacity\"]) & (data[\"capacity\"] < cap_range[1])\n",
    "        ]\n",
    "\n",
    "    data[\"capacity\"] = data.capacity / 1e3  # convert to MW\n",
    "    return data.rename(columns={\"lon\": \"x\", \"lat\": \"y\"})"
   ]
  },
  {
   "cell_type": "code",
   "execution_count": 120,
   "metadata": {},
   "outputs": [
    {
     "data": {
      "text/html": [
       "<div>\n",
       "<style scoped>\n",
       "    .dataframe tbody tr th:only-of-type {\n",
       "        vertical-align: middle;\n",
       "    }\n",
       "\n",
       "    .dataframe tbody tr th {\n",
       "        vertical-align: top;\n",
       "    }\n",
       "\n",
       "    .dataframe thead th {\n",
       "        text-align: right;\n",
       "    }\n",
       "</style>\n",
       "<table border=\"1\" class=\"dataframe\">\n",
       "  <thead>\n",
       "    <tr style=\"text-align: right;\">\n",
       "      <th></th>\n",
       "      <th>installation_date</th>\n",
       "      <th>plz</th>\n",
       "      <th>city</th>\n",
       "      <th>type</th>\n",
       "      <th>capacity</th>\n",
       "      <th>level</th>\n",
       "      <th>y</th>\n",
       "      <th>x</th>\n",
       "      <th>validation</th>\n",
       "    </tr>\n",
       "  </thead>\n",
       "  <tbody>\n",
       "  </tbody>\n",
       "</table>\n",
       "</div>"
      ],
      "text/plain": [
       "Empty DataFrame\n",
       "Columns: [installation_date, plz, city, type, capacity, level, y, x, validation]\n",
       "Index: []"
      ]
     },
     "execution_count": 120,
     "metadata": {},
     "output_type": "execute_result"
    }
   ],
   "source": [
    "capacities = load_capapcities(\"Solarstorm\")\n",
    "capacities\n"
   ]
  },
  {
   "cell_type": "code",
   "execution_count": null,
   "metadata": {},
   "outputs": [
    {
     "data": {
      "text/html": [
       "<div>\n",
       "<style scoped>\n",
       "    .dataframe tbody tr th:only-of-type {\n",
       "        vertical-align: middle;\n",
       "    }\n",
       "\n",
       "    .dataframe tbody tr th {\n",
       "        vertical-align: top;\n",
       "    }\n",
       "\n",
       "    .dataframe thead th {\n",
       "        text-align: right;\n",
       "    }\n",
       "</style>\n",
       "<table border=\"1\" class=\"dataframe\">\n",
       "  <thead>\n",
       "    <tr style=\"text-align: right;\">\n",
       "      <th></th>\n",
       "      <th></th>\n",
       "      <th>capacity</th>\n",
       "    </tr>\n",
       "    <tr>\n",
       "      <th>y</th>\n",
       "      <th>x</th>\n",
       "      <th></th>\n",
       "    </tr>\n",
       "  </thead>\n",
       "  <tbody>\n",
       "    <tr>\n",
       "      <th rowspan=\"2\" valign=\"top\">47.25</th>\n",
       "      <th>5.75</th>\n",
       "      <td>0.0</td>\n",
       "    </tr>\n",
       "    <tr>\n",
       "      <th>6.00</th>\n",
       "      <td>0.0</td>\n",
       "    </tr>\n",
       "    <tr>\n",
       "      <th>...</th>\n",
       "      <th>...</th>\n",
       "      <td>...</td>\n",
       "    </tr>\n",
       "    <tr>\n",
       "      <th rowspan=\"2\" valign=\"top\">55.25</th>\n",
       "      <th>14.75</th>\n",
       "      <td>0.0</td>\n",
       "    </tr>\n",
       "    <tr>\n",
       "      <th>15.00</th>\n",
       "      <td>0.0</td>\n",
       "    </tr>\n",
       "  </tbody>\n",
       "</table>\n",
       "<p>1254 rows × 1 columns</p>\n",
       "</div>"
      ],
      "text/plain": [
       "             capacity\n",
       "y     x              \n",
       "47.25 5.75        0.0\n",
       "      6.00        0.0\n",
       "...               ...\n",
       "55.25 14.75       0.0\n",
       "      15.00       0.0\n",
       "\n",
       "[1254 rows x 1 columns]"
      ]
     },
     "execution_count": 118,
     "metadata": {},
     "output_type": "execute_result"
    },
    {
     "name": "stderr",
     "output_type": "stream",
     "text": [
      "2024-01-17 10:55:30,553 WARNING Connection error: [('Connection aborted.', RemoteDisconnected('Remote end closed connection without response'))]. Attempt 1 of 500.\n",
      "2024-01-17 10:55:30,555 WARNING Retrying in 120 seconds\n",
      "2024-01-17 10:56:59,627 WARNING Connection error: [('Connection aborted.', RemoteDisconnected('Remote end closed connection without response'))]. Attempt 1 of 500.\n",
      "2024-01-17 10:56:59,629 WARNING Retrying in 120 seconds\n",
      "c:\\Users\\javedm\\AppData\\Local\\miniconda3\\envs\\atlite\\Lib\\site-packages\\xarray\\core\\utils.py:494: FutureWarning: The return type of `Dataset.dims` will be changed to return a set of dimension names in future, in order to be more consistent with `DataArray.dims`. To access a mapping from dimension names to lengths, please use `Dataset.sizes`.\n",
      "  warnings.warn(\n",
      "c:\\Users\\javedm\\AppData\\Local\\miniconda3\\envs\\atlite\\Lib\\site-packages\\xarray\\core\\utils.py:494: FutureWarning: The return type of `Dataset.dims` will be changed to return a set of dimension names in future, in order to be more consistent with `DataArray.dims`. To access a mapping from dimension names to lengths, please use `Dataset.sizes`.\n",
      "  warnings.warn(\n",
      "c:\\Users\\javedm\\AppData\\Local\\miniconda3\\envs\\atlite\\Lib\\site-packages\\xarray\\core\\utils.py:494: FutureWarning: The return type of `Dataset.dims` will be changed to return a set of dimension names in future, in order to be more consistent with `DataArray.dims`. To access a mapping from dimension names to lengths, please use `Dataset.sizes`.\n",
      "  warnings.warn(\n",
      "c:\\Users\\javedm\\AppData\\Local\\miniconda3\\envs\\atlite\\Lib\\site-packages\\xarray\\core\\utils.py:494: FutureWarning: The return type of `Dataset.dims` will be changed to return a set of dimension names in future, in order to be more consistent with `DataArray.dims`. To access a mapping from dimension names to lengths, please use `Dataset.sizes`.\n",
      "  warnings.warn(\n",
      "c:\\Users\\javedm\\AppData\\Local\\miniconda3\\envs\\atlite\\Lib\\site-packages\\xarray\\core\\utils.py:494: FutureWarning: The return type of `Dataset.dims` will be changed to return a set of dimension names in future, in order to be more consistent with `DataArray.dims`. To access a mapping from dimension names to lengths, please use `Dataset.sizes`.\n",
      "  warnings.warn(\n",
      "c:\\Users\\javedm\\AppData\\Local\\miniconda3\\envs\\atlite\\Lib\\site-packages\\xarray\\core\\utils.py:494: FutureWarning: The return type of `Dataset.dims` will be changed to return a set of dimension names in future, in order to be more consistent with `DataArray.dims`. To access a mapping from dimension names to lengths, please use `Dataset.sizes`.\n",
      "  warnings.warn(\n",
      "c:\\Users\\javedm\\AppData\\Local\\miniconda3\\envs\\atlite\\Lib\\site-packages\\xarray\\core\\utils.py:494: FutureWarning: The return type of `Dataset.dims` will be changed to return a set of dimension names in future, in order to be more consistent with `DataArray.dims`. To access a mapping from dimension names to lengths, please use `Dataset.sizes`.\n",
      "  warnings.warn(\n",
      "c:\\Users\\javedm\\AppData\\Local\\miniconda3\\envs\\atlite\\Lib\\site-packages\\xarray\\core\\utils.py:494: FutureWarning: The return type of `Dataset.dims` will be changed to return a set of dimension names in future, in order to be more consistent with `DataArray.dims`. To access a mapping from dimension names to lengths, please use `Dataset.sizes`.\n",
      "  warnings.warn(\n"
     ]
    }
   ],
   "source": [
    "solar_layout = cutout.layout_from_capacity_list(capacities, col=\"capacity\")\n",
    "framedata = solar_layout.to_dataframe()\n",
    "pd.set_option('display.max_rows', 5)\n",
    "framedata"
   ]
  },
  {
   "cell_type": "code",
   "execution_count": 108,
   "metadata": {},
   "outputs": [
    {
     "data": {
      "image/png": "[encoded data removed]",
      "text/plain": [
       "<Figure size 500x500 with 2 Axes>"
      ]
     },
     "metadata": {},
     "output_type": "display_data"
    }
   ],
   "source": [
    "solar_layout.plot(cmap=\"inferno_r\", size=5, aspect=1)\n",
    "plt.title = (\"Installed PV in Germany until 2012\")\n",
    "plt.tight_layout()\n",
    "plt.show()\n"
   ]
  },
  {
   "cell_type": "code",
   "execution_count": 123,
   "metadata": {},
   "outputs": [],
   "source": [
    "PV = cutout.pv(panel=\"CSi\", orientation={\"slope\":30.0, \"azimuth\": 180.0}, layout=solar_layout)\n"
   ]
  },
  {
   "cell_type": "code",
   "execution_count": 114,
   "metadata": {},
   "outputs": [
    {
     "data": {
      "text/html": [
       "<div>\n",
       "<style scoped>\n",
       "    .dataframe tbody tr th:only-of-type {\n",
       "        vertical-align: middle;\n",
       "    }\n",
       "\n",
       "    .dataframe tbody tr th {\n",
       "        vertical-align: top;\n",
       "    }\n",
       "\n",
       "    .dataframe thead th {\n",
       "        text-align: right;\n",
       "    }\n",
       "</style>\n",
       "<table border=\"1\" class=\"dataframe\">\n",
       "  <thead>\n",
       "    <tr style=\"text-align: right;\">\n",
       "      <th></th>\n",
       "      <th></th>\n",
       "      <th>specific generation</th>\n",
       "    </tr>\n",
       "    <tr>\n",
       "      <th>time</th>\n",
       "      <th>dim_0</th>\n",
       "      <th></th>\n",
       "    </tr>\n",
       "  </thead>\n",
       "  <tbody>\n",
       "    <tr>\n",
       "      <th>2012-01-01 00:00:00</th>\n",
       "      <th>0</th>\n",
       "      <td>0.0</td>\n",
       "    </tr>\n",
       "    <tr>\n",
       "      <th>2012-01-01 01:00:00</th>\n",
       "      <th>0</th>\n",
       "      <td>0.0</td>\n",
       "    </tr>\n",
       "    <tr>\n",
       "      <th>...</th>\n",
       "      <th>...</th>\n",
       "      <td>...</td>\n",
       "    </tr>\n",
       "    <tr>\n",
       "      <th>2012-02-29 22:00:00</th>\n",
       "      <th>0</th>\n",
       "      <td>0.0</td>\n",
       "    </tr>\n",
       "    <tr>\n",
       "      <th>2012-02-29 23:00:00</th>\n",
       "      <th>0</th>\n",
       "      <td>0.0</td>\n",
       "    </tr>\n",
       "  </tbody>\n",
       "</table>\n",
       "<p>1440 rows × 1 columns</p>\n",
       "</div>"
      ],
      "text/plain": [
       "                           specific generation\n",
       "time                dim_0                     \n",
       "2012-01-01 00:00:00 0                      0.0\n",
       "2012-01-01 01:00:00 0                      0.0\n",
       "...                                        ...\n",
       "2012-02-29 22:00:00 0                      0.0\n",
       "2012-02-29 23:00:00 0                      0.0\n",
       "\n",
       "[1440 rows x 1 columns]"
      ]
     },
     "execution_count": 114,
     "metadata": {},
     "output_type": "execute_result"
    }
   ],
   "source": [
    "# Converting xArray to dataframe with pandas\n",
    "dataframe = PV.to_dataframe()\n",
    "pd.set_option('display.max_rows', 5)\n",
    "dataframe"
   ]
  },
  {
   "cell_type": "code",
   "execution_count": 126,
   "metadata": {},
   "outputs": [
    {
     "data": {
      "text/plain": [
       "time\n",
       "2012-01-01 00:00:00    0.0\n",
       "2012-01-01 01:00:00    0.0\n",
       "                      ... \n",
       "2012-02-29 22:00:00    0.0\n",
       "2012-02-29 23:00:00    0.0\n",
       "Name: specific generation, Length: 1440, dtype: float64"
      ]
     },
     "execution_count": 126,
     "metadata": {},
     "output_type": "execute_result"
    }
   ],
   "source": [
    "PV\n",
    "PV.squeeze().to_series()"
   ]
  },
  {
   "cell_type": "code",
   "execution_count": 128,
   "metadata": {},
   "outputs": [
    {
     "data": {
      "text/html": [
       "<div>\n",
       "<style scoped>\n",
       "    .dataframe tbody tr th:only-of-type {\n",
       "        vertical-align: middle;\n",
       "    }\n",
       "\n",
       "    .dataframe tbody tr th {\n",
       "        vertical-align: top;\n",
       "    }\n",
       "\n",
       "    .dataframe thead th {\n",
       "        text-align: right;\n",
       "    }\n",
       "</style>\n",
       "<table border=\"1\" class=\"dataframe\">\n",
       "  <thead>\n",
       "    <tr style=\"text-align: right;\">\n",
       "      <th></th>\n",
       "      <th>atlite</th>\n",
       "      <th>opsd</th>\n",
       "    </tr>\n",
       "  </thead>\n",
       "  <tbody>\n",
       "    <tr>\n",
       "      <th>2011-12-31 23:00:00</th>\n",
       "      <td>NaN</td>\n",
       "      <td>NaN</td>\n",
       "    </tr>\n",
       "    <tr>\n",
       "      <th>2012-01-01 00:00:00</th>\n",
       "      <td>0.0</td>\n",
       "      <td>NaN</td>\n",
       "    </tr>\n",
       "    <tr>\n",
       "      <th>...</th>\n",
       "      <td>...</td>\n",
       "      <td>...</td>\n",
       "    </tr>\n",
       "    <tr>\n",
       "      <th>2012-12-31 22:00:00</th>\n",
       "      <td>NaN</td>\n",
       "      <td>0.0</td>\n",
       "    </tr>\n",
       "    <tr>\n",
       "      <th>2012-12-31 23:00:00</th>\n",
       "      <td>NaN</td>\n",
       "      <td>0.0</td>\n",
       "    </tr>\n",
       "  </tbody>\n",
       "</table>\n",
       "<p>8785 rows × 2 columns</p>\n",
       "</div>"
      ],
      "text/plain": [
       "                     atlite  opsd\n",
       "2011-12-31 23:00:00     NaN   NaN\n",
       "2012-01-01 00:00:00     0.0   NaN\n",
       "...                     ...   ...\n",
       "2012-12-31 22:00:00     NaN   0.0\n",
       "2012-12-31 23:00:00     NaN   0.0\n",
       "\n",
       "[8785 rows x 2 columns]"
      ]
     },
     "execution_count": 128,
     "metadata": {},
     "output_type": "execute_result"
    }
   ],
   "source": [
    "compare = (pd.DataFrame(dict(atlite=PV.squeeze().to_series(), opsd = opsd[\"DE_solar_generation_actual\"]))/1e3)\n",
    "compare"
   ]
  },
  {
   "cell_type": "code",
   "execution_count": 131,
   "metadata": {},
   "outputs": [
    {
     "data": {
      "image/png": "[encoded data removed]",
      "text/plain": [
       "<Figure size 800x500 with 1 Axes>"
      ]
     },
     "metadata": {},
     "output_type": "display_data"
    },
    {
     "name": "stderr",
     "output_type": "stream",
     "text": [
      "c:\\Users\\javedm\\AppData\\Local\\miniconda3\\envs\\atlite\\Lib\\site-packages\\xarray\\core\\utils.py:494: FutureWarning: The return type of `Dataset.dims` will be changed to return a set of dimension names in future, in order to be more consistent with `DataArray.dims`. To access a mapping from dimension names to lengths, please use `Dataset.sizes`.\n",
      "  warnings.warn(\n",
      "c:\\Users\\javedm\\AppData\\Local\\miniconda3\\envs\\atlite\\Lib\\site-packages\\xarray\\core\\utils.py:494: FutureWarning: The return type of `Dataset.dims` will be changed to return a set of dimension names in future, in order to be more consistent with `DataArray.dims`. To access a mapping from dimension names to lengths, please use `Dataset.sizes`.\n",
      "  warnings.warn(\n",
      "c:\\Users\\javedm\\AppData\\Local\\miniconda3\\envs\\atlite\\Lib\\site-packages\\xarray\\core\\utils.py:494: FutureWarning: The return type of `Dataset.dims` will be changed to return a set of dimension names in future, in order to be more consistent with `DataArray.dims`. To access a mapping from dimension names to lengths, please use `Dataset.sizes`.\n",
      "  warnings.warn(\n"
     ]
    }
   ],
   "source": [
    "compare.resample(\"1W\").mean().plot(figsize=(8, 5))\n",
    "plt.ylabel(\"Feed-In [GW]\")\n",
    "#plt.title(\"PV time-series Germany 2012\")\n",
    "plt.tight_layout()"
   ]
  },
  {
   "cell_type": "code",
   "execution_count": null,
   "metadata": {},
   "outputs": [
    {
     "name": "stdout",
     "output_type": "stream",
     "text": [
      "* Bonus_B1000_1000kW\n",
      "* Enercon_E101_3000kW\n",
      "* Enercon_E126_7500kW\n",
      "* Enercon_E82_3000kW\n",
      "* NREL_ReferenceTurbine_2016CACost_10MW_offshore\n",
      "* NREL_ReferenceTurbine_2016CACost_6MW_offshore\n",
      "* NREL_ReferenceTurbine_2016CACost_8MW_offshore\n",
      "* NREL_ReferenceTurbine_2019ORCost_12MW_offshore\n",
      "* NREL_ReferenceTurbine_2019ORCost_15MW_offshore\n",
      "* NREL_ReferenceTurbine_2020ATB_12MW_offshore\n",
      "* NREL_ReferenceTurbine_2020ATB_15MW_offshore\n",
      "* NREL_ReferenceTurbine_2020ATB_18MW_offshore\n",
      "* NREL_ReferenceTurbine_2020ATB_4MW\n",
      "* NREL_ReferenceTurbine_2020ATB_5.5MW\n",
      "* NREL_ReferenceTurbine_2020ATB_7MW\n",
      "* NREL_ReferenceTurbine_5MW_offshore\n",
      "* Siemens_SWT_107_3600kW\n",
      "* Siemens_SWT_2300kW\n",
      "* Suzlon_S82_1.5_MW\n",
      "* Vestas_V112_3MW\n",
      "* Vestas_V112_3MW_offshore\n",
      "* Vestas_V164_7MW_offshore\n",
      "* Vestas_V25_200kW\n",
      "* Vestas_V47_660kW\n",
      "* Vestas_V66_1750kW\n",
      "* Vestas_V80_2MW_gridstreamer\n",
      "* Vestas_V90_3MW\n"
     ]
    },
    {
     "name": "stderr",
     "output_type": "stream",
     "text": [
      "c:\\Users\\javedm\\AppData\\Local\\miniconda3\\envs\\atlite\\Lib\\site-packages\\xarray\\core\\utils.py:494: FutureWarning: The return type of `Dataset.dims` will be changed to return a set of dimension names in future, in order to be more consistent with `DataArray.dims`. To access a mapping from dimension names to lengths, please use `Dataset.sizes`.\n",
      "  warnings.warn(\n"
     ]
    }
   ],
   "source": [
    "# process for wind feed-ins\n",
    "for t in atlite.windturbines:\n",
    "    print(f\"* {t}\")"
   ]
  },
  {
   "cell_type": "code",
   "execution_count": 136,
   "metadata": {},
   "outputs": [],
   "source": [
    "turbine_categories = [\n",
    "    dict(name=\"Vestas_V25_200kW\", up=400.0),\n",
    "    dict(name=\"Vestas_V47_660kW\", up=700.0),\n",
    "    dict(name=\"Bonus_B1000_1000kW\", up=1100.0),\n",
    "    dict(name=\"Suzlon_S82_1.5_MW\", up=1600.0),\n",
    "    dict(name=\"Vestas_V66_1750kW\", up=1900.0),\n",
    "    dict(name=\"Vestas_V80_2MW_gridstreamer\", up=2200.0),\n",
    "    dict(name=\"Siemens_SWT_2300kW\", up=2500.0),\n",
    "    dict(name=\"Vestas_V90_3MW\", up=50000.0),\n",
    "]"
   ]
  },
  {
   "cell_type": "code",
   "execution_count": null,
   "metadata": {},
   "outputs": [],
   "source": [
    "low=0\n",
    "for index, turbine_cat in enumerate(turbine_categories):\n",
    "    capacities = load_capacities(\n",
    "        \"WindKraft\", cap_range=[low, turbine_cat[\"up\"]], until=\"2012\"\n",
    "    )\n",
    "    layout = cutout.layout_from_capacity_list(capacities, \"capacity\")\n",
    "\n",
    "    turbine_categories[index][\"layout\"]=layout\n",
    "    low = turbine_cat[\"up\"]"
   ]
  },
  {
   "cell_type": "code",
   "execution_count": 141,
   "metadata": {},
   "outputs": [
    {
     "name": "stdout",
     "output_type": "stream",
     "text": [
      "[{'name': 'Vestas_V25_200kW', 'up': 400.0, 'layout': <xarray.DataArray 'capacity' (y: 33, x: 38)>\n",
      "array([[0., 0., 0., ..., 0., 0., 0.],\n",
      "       [0., 0., 0., ..., 0., 0., 0.],\n",
      "       [0., 0., 0., ..., 0., 0., 0.],\n",
      "       ...,\n",
      "       [0., 0., 0., ..., 0., 0., 0.],\n",
      "       [0., 0., 0., ..., 0., 0., 0.],\n",
      "       [0., 0., 0., ..., 0., 0., 0.]])\n",
      "Coordinates:\n",
      "  * y        (y) float64 47.25 47.5 47.75 48.0 48.25 ... 54.5 54.75 55.0 55.25\n",
      "  * x        (x) float64 5.75 6.0 6.25 6.5 6.75 ... 14.0 14.25 14.5 14.75 15.0}, {'name': 'Vestas_V47_660kW', 'up': 700.0, 'layout': <xarray.DataArray 'capacity' (y: 33, x: 38)>\n",
      "array([[0., 0., 0., ..., 0., 0., 0.],\n",
      "       [0., 0., 0., ..., 0., 0., 0.],\n",
      "       [0., 0., 0., ..., 0., 0., 0.],\n",
      "       ...,\n",
      "       [0., 0., 0., ..., 0., 0., 0.],\n",
      "       [0., 0., 0., ..., 0., 0., 0.],\n",
      "       [0., 0., 0., ..., 0., 0., 0.]])\n",
      "Coordinates:\n",
      "  * y        (y) float64 47.25 47.5 47.75 48.0 48.25 ... 54.5 54.75 55.0 55.25\n",
      "  * x        (x) float64 5.75 6.0 6.25 6.5 6.75 ... 14.0 14.25 14.5 14.75 15.0}, {'name': 'Bonus_B1000_1000kW', 'up': 1100.0, 'layout': <xarray.DataArray 'capacity' (y: 33, x: 38)>\n",
      "array([[0., 0., 0., ..., 0., 0., 0.],\n",
      "       [0., 0., 0., ..., 0., 0., 0.],\n",
      "       [0., 0., 0., ..., 0., 0., 0.],\n",
      "       ...,\n",
      "       [0., 0., 0., ..., 0., 0., 0.],\n",
      "       [0., 0., 0., ..., 0., 0., 0.],\n",
      "       [0., 0., 0., ..., 0., 0., 0.]])\n",
      "Coordinates:\n",
      "  * y        (y) float64 47.25 47.5 47.75 48.0 48.25 ... 54.5 54.75 55.0 55.25\n",
      "  * x        (x) float64 5.75 6.0 6.25 6.5 6.75 ... 14.0 14.25 14.5 14.75 15.0}, {'name': 'Suzlon_S82_1.5_MW', 'up': 1600.0, 'layout': <xarray.DataArray 'capacity' (y: 33, x: 38)>\n",
      "array([[0., 0., 0., ..., 0., 0., 0.],\n",
      "       [0., 0., 0., ..., 0., 0., 0.],\n",
      "       [0., 0., 0., ..., 0., 0., 0.],\n",
      "       ...,\n",
      "       [0., 0., 0., ..., 0., 0., 0.],\n",
      "       [0., 0., 0., ..., 0., 0., 0.],\n",
      "       [0., 0., 0., ..., 0., 0., 0.]])\n",
      "Coordinates:\n",
      "  * y        (y) float64 47.25 47.5 47.75 48.0 48.25 ... 54.5 54.75 55.0 55.25\n",
      "  * x        (x) float64 5.75 6.0 6.25 6.5 6.75 ... 14.0 14.25 14.5 14.75 15.0}, {'name': 'Vestas_V66_1750kW', 'up': 1900.0, 'layout': <xarray.DataArray 'capacity' (y: 33, x: 38)>\n",
      "array([[0., 0., 0., ..., 0., 0., 0.],\n",
      "       [0., 0., 0., ..., 0., 0., 0.],\n",
      "       [0., 0., 0., ..., 0., 0., 0.],\n",
      "       ...,\n",
      "       [0., 0., 0., ..., 0., 0., 0.],\n",
      "       [0., 0., 0., ..., 0., 0., 0.],\n",
      "       [0., 0., 0., ..., 0., 0., 0.]])\n",
      "Coordinates:\n",
      "  * y        (y) float64 47.25 47.5 47.75 48.0 48.25 ... 54.5 54.75 55.0 55.25\n",
      "  * x        (x) float64 5.75 6.0 6.25 6.5 6.75 ... 14.0 14.25 14.5 14.75 15.0}, {'name': 'Vestas_V80_2MW_gridstreamer', 'up': 2200.0, 'layout': <xarray.DataArray 'capacity' (y: 33, x: 38)>\n",
      "array([[0., 0., 0., ..., 0., 0., 0.],\n",
      "       [0., 0., 0., ..., 0., 0., 0.],\n",
      "       [0., 0., 0., ..., 0., 0., 0.],\n",
      "       ...,\n",
      "       [0., 0., 0., ..., 0., 0., 0.],\n",
      "       [0., 0., 0., ..., 0., 0., 0.],\n",
      "       [0., 0., 0., ..., 0., 0., 0.]])\n",
      "Coordinates:\n",
      "  * y        (y) float64 47.25 47.5 47.75 48.0 48.25 ... 54.5 54.75 55.0 55.25\n",
      "  * x        (x) float64 5.75 6.0 6.25 6.5 6.75 ... 14.0 14.25 14.5 14.75 15.0}, {'name': 'Siemens_SWT_2300kW', 'up': 2500.0, 'layout': <xarray.DataArray 'capacity' (y: 33, x: 38)>\n",
      "array([[0., 0., 0., ..., 0., 0., 0.],\n",
      "       [0., 0., 0., ..., 0., 0., 0.],\n",
      "       [0., 0., 0., ..., 0., 0., 0.],\n",
      "       ...,\n",
      "       [0., 0., 0., ..., 0., 0., 0.],\n",
      "       [0., 0., 0., ..., 0., 0., 0.],\n",
      "       [0., 0., 0., ..., 0., 0., 0.]])\n",
      "Coordinates:\n",
      "  * y        (y) float64 47.25 47.5 47.75 48.0 48.25 ... 54.5 54.75 55.0 55.25\n",
      "  * x        (x) float64 5.75 6.0 6.25 6.5 6.75 ... 14.0 14.25 14.5 14.75 15.0}, {'name': 'Vestas_V90_3MW', 'up': 50000.0, 'layout': <xarray.DataArray 'capacity' (y: 33, x: 38)>\n",
      "array([[0., 0., 0., ..., 0., 0., 0.],\n",
      "       [0., 0., 0., ..., 0., 0., 0.],\n",
      "       [0., 0., 0., ..., 0., 0., 0.],\n",
      "       ...,\n",
      "       [0., 0., 0., ..., 0., 0., 0.],\n",
      "       [0., 0., 0., ..., 0., 0., 0.],\n",
      "       [0., 0., 0., ..., 0., 0., 0.]])\n",
      "Coordinates:\n",
      "  * y        (y) float64 47.25 47.5 47.75 48.0 48.25 ... 54.5 54.75 55.0 55.25\n",
      "  * x        (x) float64 5.75 6.0 6.25 6.5 6.75 ... 14.0 14.25 14.5 14.75 15.0}]\n"
     ]
    }
   ],
   "source": [
    "print(turbine_categories)"
   ]
  },
  {
   "cell_type": "code",
   "execution_count": null,
   "metadata": {},
   "outputs": [
    {
     "name": "stderr",
     "output_type": "stream",
     "text": [
      "c:\\Users\\javedm\\AppData\\Local\\miniconda3\\envs\\atlite\\Lib\\site-packages\\xarray\\core\\utils.py:494: FutureWarning: The return type of `Dataset.dims` will be changed to return a set of dimension names in future, in order to be more consistent with `DataArray.dims`. To access a mapping from dimension names to lengths, please use `Dataset.sizes`.\n",
      "  warnings.warn(\n",
      "c:\\Users\\javedm\\AppData\\Local\\miniconda3\\envs\\atlite\\Lib\\site-packages\\xarray\\core\\utils.py:494: FutureWarning: The return type of `Dataset.dims` will be changed to return a set of dimension names in future, in order to be more consistent with `DataArray.dims`. To access a mapping from dimension names to lengths, please use `Dataset.sizes`.\n",
      "  warnings.warn(\n",
      "c:\\Users\\javedm\\AppData\\Local\\miniconda3\\envs\\atlite\\Lib\\site-packages\\xarray\\core\\utils.py:494: FutureWarning: The return type of `Dataset.dims` will be changed to return a set of dimension names in future, in order to be more consistent with `DataArray.dims`. To access a mapping from dimension names to lengths, please use `Dataset.sizes`.\n",
      "  warnings.warn(\n"
     ]
    }
   ],
   "source": [
    "wind = xr.Dataset()\n",
    "for turbine_cat in turbine_categories:\n",
    "    name = f\"<{turbine_cat['up']} kw\"\n",
    "    wind[name] = cutout.wind(\n",
    "        turbine=turbine_cat[\"name\"],\n",
    "        layout=turbine_cat[\"layout\"],\n",
    "        show_progress=False,\n",
    "        add_cutout_windspeed=True,\n",
    "    )\n",
    "wind[\"total\"] = sum(wind[c] for c in wind) "
   ]
  },
  {
   "cell_type": "code",
   "execution_count": null,
   "metadata": {},
   "outputs": [],
   "source": [
    "compare = pd.DataFrame(\n",
    "    {\n",
    "        \"atlite\": wind [\"total\"].squeeze().to_series(),\n",
    "        \"< 1600 kW\": wind[\"< 1600.0 kW\"].squeeze().to_series(),\n",
    "        \"opsd\": opsd[\"DE_wind_generation_actual\"],       \n",
    "    }\n",
    ")\n"
   ]
  },
  {
   "cell_type": "code",
   "execution_count": 52,
   "metadata": {},
   "outputs": [
    {
     "data": {
      "image/png": "[encoded data removed]",
      "text/plain": [
       "<Figure size 640x480 with 1 Axes>"
      ]
     },
     "metadata": {},
     "output_type": "display_data"
    }
   ],
   "source": [
    "import cartopy.io.shapereader as shpreader\n",
    "import matplotlib.pyplot as plt\n",
    "import cartopy.crs as ccrs\n",
    "\n",
    "# Create the shapereader Reader object as per your code\n",
    "shp = shpreader.Reader(\n",
    "    shpreader.natural_earth(\n",
    "        resolution=\"10m\", category=\"cultural\", name=\"admin_0_countries\"\n",
    "    )\n",
    ")\n",
    "\n",
    "# Set up a cartopy GeoAxes object with a specified map projection\n",
    "ax = plt.axes(projection=ccrs.PlateCarree())\n",
    "\n",
    "# Loop through the geometries in the shapefile and add them to the axes\n",
    "for country in shp.records():\n",
    "    geom = country.geometry\n",
    "    ax.add_geometries([geom], ccrs.PlateCarree(), edgecolor='black', facecolor='none')\n",
    "\n",
    "# Display the plot\n",
    "plt.show()\n"
   ]
  },
  {
   "cell_type": "code",
   "execution_count": 56,
   "metadata": {},
   "outputs": [
    {
     "name": "stdout",
     "output_type": "stream",
     "text": [
      "{'UG', 'IS', 'IE', 'GR', 'AT', 'GT', 'BM', 'LB', 'MW', 'IN', 'TO', 'AI', 'HT', 'OM', 'AO', 'NI', 'AX', 'KM', 'BI', 'SL', 'SM', 'CW', 'CN-TW', 'CV', 'FM', 'EH', 'MA', 'TN', 'GG', 'TF', 'GH', 'WS', 'MN', 'PG', 'AZ', 'GY', 'KE', 'AR', 'PA', 'EG', 'BE', 'ER', 'DE', 'PK', 'SI', 'IM', 'NR', 'MK', 'MH', 'HM', 'RS', 'NC', 'AG', 'DJ', 'VN', 'NZ', 'BL', 'HN', 'MZ', 'VG', 'CI', 'CM', 'VC', 'GL', 'DZ', 'AL', 'ZA', 'PF', 'GD', 'SG', 'PR', 'BB', 'AD', 'AF', 'PH', 'LA', 'CN', 'WF', 'LI', 'ML', 'CG', 'UZ', 'BR', 'KH', 'AW', 'ST', 'GQ', 'BJ', 'SZ', 'MS', 'JE', 'BD', 'GB', 'NG', 'BY', 'PT', 'CD', 'NU', 'NE', 'AM', 'HK', 'LV', 'LS', 'MX', 'FJ', 'CF', 'HR', 'SK', 'FI', 'KW', 'MU', 'JO', 'BT', 'GN', 'TV', 'SA', 'PY', 'GS', 'QA', 'TD', 'BG', 'SS', 'MR', 'CU', 'IO', 'CL', 'KZ', 'CY', 'SB', 'LR', 'TL', 'MC', 'PW', 'CO', 'SY', 'SE', 'MG', 'PS', 'AS', 'AE', 'DO', 'SV', 'GE', 'CK', 'ET', 'VU', 'MO', 'UA', 'LY', 'RU', 'KP', 'CR', 'SX', 'YE', 'BN', 'SH', '-99', 'GA', 'TZ', 'ID', 'IQ', 'BO', 'BW', 'MM', 'AQ', 'FK', 'TT', 'KN', 'RO', 'LT', 'IT', 'TG', 'MF', 'BF', 'DM', 'KI', 'TM', 'US', 'BH', 'KY', 'IR', 'ME', 'SR', 'JM', 'SN', 'DK', 'MD', 'UM', 'ZW', 'MP', 'VE', 'LK', 'GM', 'MY', 'KR', 'CH', 'IL', 'EE', 'AU', 'NP', 'UY', 'KG', 'CA', 'PM', 'VA', 'GW', 'SO', 'HU', 'BS', 'LC', 'ZM', 'GI', 'TC', 'VI', 'EC', 'PN', 'PE', 'MT', 'PL', 'NL', 'BA', 'NA', 'CZ', 'ES', 'BZ', 'SC', 'RW', 'JP', 'MV', 'GU', 'SD', 'NF', 'LU', 'TR', 'TJ', 'FO', 'TH'}\n",
      "The ISO_A2 code for Norway ('NO') is NOT in the dataset.\n"
     ]
    }
   ],
   "source": [
    "iso_a2_codes = [record.attributes[\"ISO_A2\"] for record in shp.records()]\n",
    "print(set(iso_a2_codes))\n",
    "if \"NO\" in iso_a2_codes:\n",
    "    print(\"The ISO_A2 code for Norway ('NO') is in the dataset.\")\n",
    "else:\n",
    "    print(\"The ISO_A2 code for Norway ('NO') is NOT in the dataset.\")"
   ]
  }
 ],
 "metadata": {
  "kernelspec": {
   "display_name": "atlite",
   "language": "python",
   "name": "python3"
  },
  "language_info": {
   "codemirror_mode": {
    "name": "ipython",
    "version": 3
   },
   "file_extension": ".py",
   "mimetype": "text/x-python",
   "name": "python",
   "nbconvert_exporter": "python",
   "pygments_lexer": "ipython3",
   "version": "3.12.1"
  }
 },
 "nbformat": 4,
 "nbformat_minor": 2
}
