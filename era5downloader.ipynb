{
 "cells": [
  {
   "cell_type": "code",
   "execution_count": 38,
   "id": "f24da2ca-51e0-44bf-adb0-145abdf986d0",
   "metadata": {},
   "outputs": [],
   "source": [
    "import atlite"
   ]
  },
  {
   "cell_type": "code",
   "execution_count": 39,
   "id": "685088cb-5e85-4471-a85f-47cf15dbeb50",
   "metadata": {},
   "outputs": [
    {
     "data": {
      "text/plain": [
       "'0.2.7'"
      ]
     },
     "execution_count": 39,
     "metadata": {},
     "output_type": "execute_result"
    }
   ],
   "source": [
    "atlite.__version__"
   ]
  },
  {
   "cell_type": "code",
   "execution_count": 41,
   "id": "eb8688dd-2c71-4211-81e0-7be2620650a2",
   "metadata": {},
   "outputs": [
    {
     "name": "stderr",
     "output_type": "stream",
     "text": [
      "/localscratch/ec-maximilr/miniconda3/envs/atlitefox/lib/python3.10/site-packages/atlite/cutout.py:187: UserWarning: Arguments module, time, x, y are ignored, since cutout is already built.\n",
      "  warn(\n",
      "2022-09-06 17:11:14,500 INFO Cutout already prepared.\n",
      "/localscratch/ec-maximilr/miniconda3/envs/atlitefox/lib/python3.10/site-packages/atlite/cutout.py:187: UserWarning: Arguments module, time, x, y are ignored, since cutout is already built.\n",
      "  warn(\n",
      "2022-09-06 17:11:14,609 INFO Cutout already prepared.\n",
      "/localscratch/ec-maximilr/miniconda3/envs/atlitefox/lib/python3.10/site-packages/atlite/cutout.py:187: UserWarning: Arguments module, time, x, y are ignored, since cutout is already built.\n",
      "  warn(\n",
      "2022-09-06 17:11:14,693 INFO Cutout already prepared.\n",
      "/localscratch/ec-maximilr/miniconda3/envs/atlitefox/lib/python3.10/site-packages/atlite/cutout.py:187: UserWarning: Arguments module, time, x, y are ignored, since cutout is already built.\n",
      "  warn(\n",
      "2022-09-06 17:11:14,812 INFO Cutout already prepared.\n",
      "/localscratch/ec-maximilr/miniconda3/envs/atlitefox/lib/python3.10/site-packages/atlite/cutout.py:187: UserWarning: Arguments module, time, x, y are ignored, since cutout is already built.\n",
      "  warn(\n",
      "2022-09-06 17:11:14,920 INFO Cutout already prepared.\n",
      "/localscratch/ec-maximilr/miniconda3/envs/atlitefox/lib/python3.10/site-packages/atlite/cutout.py:187: UserWarning: Arguments module, time, x, y are ignored, since cutout is already built.\n",
      "  warn(\n",
      "2022-09-06 17:11:15,043 INFO Cutout already prepared.\n",
      "/localscratch/ec-maximilr/miniconda3/envs/atlitefox/lib/python3.10/site-packages/atlite/cutout.py:187: UserWarning: Arguments module, time, x, y are ignored, since cutout is already built.\n",
      "  warn(\n",
      "2022-09-06 17:11:15,123 INFO Cutout already prepared.\n",
      "/localscratch/ec-maximilr/miniconda3/envs/atlitefox/lib/python3.10/site-packages/atlite/cutout.py:187: UserWarning: Arguments module, time, x, y are ignored, since cutout is already built.\n",
      "  warn(\n",
      "2022-09-06 17:11:15,204 INFO Cutout already prepared.\n",
      "/localscratch/ec-maximilr/miniconda3/envs/atlitefox/lib/python3.10/site-packages/atlite/cutout.py:187: UserWarning: Arguments module, time, x, y are ignored, since cutout is already built.\n",
      "  warn(\n",
      "2022-09-06 17:11:15,312 INFO Cutout already prepared.\n",
      "/localscratch/ec-maximilr/miniconda3/envs/atlitefox/lib/python3.10/site-packages/atlite/cutout.py:187: UserWarning: Arguments module, time, x, y are ignored, since cutout is already built.\n",
      "  warn(\n",
      "2022-09-06 17:11:15,387 INFO Cutout already prepared.\n",
      "/localscratch/ec-maximilr/miniconda3/envs/atlitefox/lib/python3.10/site-packages/atlite/cutout.py:187: UserWarning: Arguments module, time, x, y are ignored, since cutout is already built.\n",
      "  warn(\n",
      "2022-09-06 17:11:15,428 INFO Storing temporary files in /tmp/tmpdswu6hmt\n",
      "/localscratch/ec-maximilr/miniconda3/envs/atlitefox/lib/python3.10/site-packages/atlite/cutout.py:187: UserWarning: Arguments module, time, x, y are ignored, since cutout is already built.\n",
      "  warn(\n",
      "2022-09-06 17:11:15,524 INFO Storing temporary files in /tmp/tmp1ak2wo32\n",
      "/localscratch/ec-maximilr/miniconda3/envs/atlitefox/lib/python3.10/site-packages/atlite/cutout.py:187: UserWarning: Arguments module, time, x, y are ignored, since cutout is already built.\n",
      "  warn(\n",
      "2022-09-06 17:11:15,652 INFO Storing temporary files in /tmp/tmpit28eg1d\n",
      "/localscratch/ec-maximilr/miniconda3/envs/atlitefox/lib/python3.10/site-packages/atlite/cutout.py:187: UserWarning: Arguments module, time, x, y are ignored, since cutout is already built.\n",
      "  warn(\n",
      "2022-09-06 17:11:15,736 INFO Storing temporary files in /tmp/tmp8stkuyc4\n",
      "/localscratch/ec-maximilr/miniconda3/envs/atlitefox/lib/python3.10/site-packages/atlite/cutout.py:187: UserWarning: Arguments module, time, x, y are ignored, since cutout is already built.\n",
      "  warn(\n",
      "2022-09-06 17:11:15,885 INFO Storing temporary files in /tmp/tmp42x64fnw\n",
      "/localscratch/ec-maximilr/miniconda3/envs/atlitefox/lib/python3.10/site-packages/atlite/cutout.py:187: UserWarning: Arguments module, time, x, y are ignored, since cutout is already built.\n",
      "  warn(\n",
      "2022-09-06 17:11:15,970 INFO Storing temporary files in /tmp/tmppmyvbs7z\n",
      "/localscratch/ec-maximilr/miniconda3/envs/atlitefox/lib/python3.10/site-packages/atlite/cutout.py:187: UserWarning: Arguments module, time, x, y are ignored, since cutout is already built.\n",
      "  warn(\n",
      "2022-09-06 17:11:16,054 INFO Storing temporary files in /tmp/tmppnra7jrj\n",
      "/localscratch/ec-maximilr/miniconda3/envs/atlitefox/lib/python3.10/site-packages/atlite/cutout.py:187: UserWarning: Arguments module, time, x, y are ignored, since cutout is already built.\n",
      "  warn(\n",
      "2022-09-06 17:11:16,154 INFO Storing temporary files in /tmp/tmpweieeidb\n",
      "/localscratch/ec-maximilr/miniconda3/envs/atlitefox/lib/python3.10/site-packages/atlite/cutout.py:187: UserWarning: Arguments module, time, x, y are ignored, since cutout is already built.\n",
      "  warn(\n",
      "2022-09-06 17:11:16,239 INFO Storing temporary files in /tmp/tmpt4r3nmj8\n",
      "/localscratch/ec-maximilr/miniconda3/envs/atlitefox/lib/python3.10/site-packages/atlite/cutout.py:187: UserWarning: Arguments module, time, x, y are ignored, since cutout is already built.\n",
      "  warn(\n",
      "2022-09-06 17:11:16,340 INFO Storing temporary files in /tmp/tmpbuaul2ex\n",
      "/localscratch/ec-maximilr/miniconda3/envs/atlitefox/lib/python3.10/site-packages/atlite/cutout.py:187: UserWarning: Arguments module, time, x, y are ignored, since cutout is already built.\n",
      "  warn(\n",
      "2022-09-06 17:11:16,444 INFO Storing temporary files in /tmp/tmpr22zego2\n",
      "/localscratch/ec-maximilr/miniconda3/envs/atlitefox/lib/python3.10/site-packages/atlite/cutout.py:187: UserWarning: Arguments module, time, x, y are ignored, since cutout is already built.\n",
      "  warn(\n",
      "2022-09-06 17:11:16,533 INFO Storing temporary files in /tmp/tmpp786z184\n",
      "/localscratch/ec-maximilr/miniconda3/envs/atlitefox/lib/python3.10/site-packages/atlite/cutout.py:187: UserWarning: Arguments module, time, x, y are ignored, since cutout is already built.\n",
      "  warn(\n",
      "2022-09-06 17:11:16,634 INFO Storing temporary files in /tmp/tmpk68260ux\n",
      "/localscratch/ec-maximilr/miniconda3/envs/atlitefox/lib/python3.10/site-packages/atlite/cutout.py:187: UserWarning: Arguments module, time, x, y are ignored, since cutout is already built.\n",
      "  warn(\n",
      "2022-09-06 17:11:16,720 INFO Storing temporary files in /tmp/tmpgkw5oofw\n",
      "/localscratch/ec-maximilr/miniconda3/envs/atlitefox/lib/python3.10/site-packages/atlite/cutout.py:187: UserWarning: Arguments module, time, x, y are ignored, since cutout is already built.\n",
      "  warn(\n",
      "2022-09-06 17:11:16,828 INFO Storing temporary files in /tmp/tmp94641vy7\n",
      "/localscratch/ec-maximilr/miniconda3/envs/atlitefox/lib/python3.10/site-packages/atlite/cutout.py:187: UserWarning: Arguments module, time, x, y are ignored, since cutout is already built.\n",
      "  warn(\n",
      "2022-09-06 17:11:16,915 INFO Storing temporary files in /tmp/tmpsqyay48n\n",
      "/localscratch/ec-maximilr/miniconda3/envs/atlitefox/lib/python3.10/site-packages/atlite/cutout.py:187: UserWarning: Arguments module, time, x, y are ignored, since cutout is already built.\n",
      "  warn(\n",
      "2022-09-06 17:11:17,014 INFO Storing temporary files in /tmp/tmpzy6u4nsm\n",
      "/localscratch/ec-maximilr/miniconda3/envs/atlitefox/lib/python3.10/site-packages/atlite/cutout.py:187: UserWarning: Arguments module, time, x, y are ignored, since cutout is already built.\n",
      "  warn(\n",
      "2022-09-06 17:11:17,103 INFO Storing temporary files in /tmp/tmpn3nqc4bp\n",
      "/localscratch/ec-maximilr/miniconda3/envs/atlitefox/lib/python3.10/site-packages/atlite/cutout.py:187: UserWarning: Arguments module, time, x, y are ignored, since cutout is already built.\n",
      "  warn(\n",
      "2022-09-06 17:11:17,187 INFO Storing temporary files in /tmp/tmpyy88ze9v\n",
      "/localscratch/ec-maximilr/miniconda3/envs/atlitefox/lib/python3.10/site-packages/atlite/cutout.py:187: UserWarning: Arguments module, time, x, y are ignored, since cutout is already built.\n",
      "  warn(\n",
      "2022-09-06 17:11:17,268 INFO Storing temporary files in /tmp/tmp4t8maxlz\n",
      "/localscratch/ec-maximilr/miniconda3/envs/atlitefox/lib/python3.10/site-packages/atlite/cutout.py:187: UserWarning: Arguments module, time, x, y are ignored, since cutout is already built.\n",
      "  warn(\n",
      "2022-09-06 17:11:17,398 INFO Storing temporary files in /tmp/tmpfoqm1j68\n",
      "/localscratch/ec-maximilr/miniconda3/envs/atlitefox/lib/python3.10/site-packages/atlite/cutout.py:187: UserWarning: Arguments module, time, x, y are ignored, since cutout is already built.\n",
      "  warn(\n",
      "2022-09-06 17:11:17,474 INFO Storing temporary files in /tmp/tmpbncweh5y\n",
      "/localscratch/ec-maximilr/miniconda3/envs/atlitefox/lib/python3.10/site-packages/atlite/cutout.py:187: UserWarning: Arguments module, time, x, y are ignored, since cutout is already built.\n",
      "  warn(\n",
      "2022-09-06 17:11:17,598 INFO Storing temporary files in /tmp/tmp1s7_ttn3\n",
      "/localscratch/ec-maximilr/miniconda3/envs/atlitefox/lib/python3.10/site-packages/atlite/cutout.py:187: UserWarning: Arguments module, time, x, y are ignored, since cutout is already built.\n",
      "  warn(\n",
      "2022-09-06 17:11:17,682 INFO Storing temporary files in /tmp/tmpthcaga69\n",
      "/localscratch/ec-maximilr/miniconda3/envs/atlitefox/lib/python3.10/site-packages/atlite/cutout.py:187: UserWarning: Arguments module, time, x, y are ignored, since cutout is already built.\n",
      "  warn(\n",
      "2022-09-06 17:11:17,806 INFO Storing temporary files in /tmp/tmphlwm3_7t\n",
      "/localscratch/ec-maximilr/miniconda3/envs/atlitefox/lib/python3.10/site-packages/atlite/cutout.py:187: UserWarning: Arguments module, time, x, y are ignored, since cutout is already built.\n",
      "  warn(\n",
      "2022-09-06 17:11:17,891 INFO Storing temporary files in /tmp/tmp2vrag6or\n",
      "/localscratch/ec-maximilr/miniconda3/envs/atlitefox/lib/python3.10/site-packages/atlite/cutout.py:187: UserWarning: Arguments module, time, x, y are ignored, since cutout is already built.\n",
      "  warn(\n",
      "2022-09-06 17:11:18,025 INFO Storing temporary files in /tmp/tmp6y9hvjk3\n",
      "/localscratch/ec-maximilr/miniconda3/envs/atlitefox/lib/python3.10/site-packages/atlite/cutout.py:187: UserWarning: Arguments module, time, x, y are ignored, since cutout is already built.\n",
      "  warn(\n",
      "2022-09-06 17:11:18,173 INFO Storing temporary files in /tmp/tmp59sikeru\n",
      "/localscratch/ec-maximilr/miniconda3/envs/atlitefox/lib/python3.10/site-packages/atlite/cutout.py:187: UserWarning: Arguments module, time, x, y are ignored, since cutout is already built.\n",
      "  warn(\n",
      "2022-09-06 17:11:18,348 INFO Storing temporary files in /tmp/tmpfg1ody0m\n",
      "/localscratch/ec-maximilr/miniconda3/envs/atlitefox/lib/python3.10/site-packages/atlite/cutout.py:187: UserWarning: Arguments module, time, x, y are ignored, since cutout is already built.\n",
      "  warn(\n",
      "2022-09-06 17:11:18,487 INFO Storing temporary files in /tmp/tmpsj8p7ffy\n",
      "/localscratch/ec-maximilr/miniconda3/envs/atlitefox/lib/python3.10/site-packages/atlite/cutout.py:187: UserWarning: Arguments module, time, x, y are ignored, since cutout is already built.\n",
      "  warn(\n",
      "2022-09-06 17:11:18,566 INFO Storing temporary files in /tmp/tmpfe1yye82\n",
      "/localscratch/ec-maximilr/miniconda3/envs/atlitefox/lib/python3.10/site-packages/atlite/cutout.py:187: UserWarning: Arguments module, time, x, y are ignored, since cutout is already built.\n",
      "  warn(\n",
      "2022-09-06 17:11:18,720 INFO Cutout already prepared.\n",
      "/localscratch/ec-maximilr/miniconda3/envs/atlitefox/lib/python3.10/site-packages/atlite/cutout.py:187: UserWarning: Arguments module, time, x, y are ignored, since cutout is already built.\n",
      "  warn(\n",
      "2022-09-06 17:11:18,846 INFO Cutout already prepared.\n"
     ]
    }
   ],
   "source": [
    "for year in range(1979,2022):\n",
    "    cutout = atlite.Cutout(\n",
    "        path = \"europe_\" + str(year) + \".nc\",\n",
    "        module = \"era5\",\n",
    "        time = str(year),\n",
    "        x = slice(-13, 45),\n",
    "        y = slice(32, 82)\n",
    "    )\n",
    "    cutout.prepare()"
   ]
  },
  {
   "cell_type": "code",
   "execution_count": 42,
   "id": "cf960b25-b736-4338-a089-fce61d959a09",
   "metadata": {},
   "outputs": [
    {
     "data": {
      "text/plain": [
       "<Cutout \"europe_2021\">\n",
       " x = -13.00 ⟷ 45.00, dx = 0.25\n",
       " y = 32.00 ⟷ 82.00, dy = 0.25\n",
       " time = 2021-01-01 ⟷ 2021-12-31, dt = H\n",
       " module = era5\n",
       " prepared_features = ['height', 'wind', 'influx', 'temperature', 'runoff']"
      ]
     },
     "execution_count": 42,
     "metadata": {},
     "output_type": "execute_result"
    }
   ],
   "source": [
    "cutout"
   ]
  },
  {
   "cell_type": "code",
   "execution_count": null,
   "id": "3b4d1c3b-72c2-4bb9-b419-3392f298ffe5",
   "metadata": {},
   "outputs": [],
   "source": []
  }
 ],
 "metadata": {
  "kernelspec": {
   "display_name": "Python 3 (ipykernel)",
   "language": "python",
   "name": "python3"
  },
  "language_info": {
   "codemirror_mode": {
    "name": "ipython",
    "version": 3
   },
   "file_extension": ".py",
   "mimetype": "text/x-python",
   "name": "python",
   "nbconvert_exporter": "python",
   "pygments_lexer": "ipython3",
   "version": "3.12.1"
  }
 },
 "nbformat": 4,
 "nbformat_minor": 5
}
